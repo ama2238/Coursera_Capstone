{
 "cells": [
  {
   "cell_type": "markdown",
   "metadata": {},
   "source": [
    "   After much anticipation from Canadians, Trader Joe’s, an American-based chain of grocery stores, has finally decided to expand its operations into Canada. They would like to start by opening one store in Canada, and are divided between opening a store in one of Canada’s top two populated cities – Toronto and Montreal. \n",
    "   In order to enable them to decide on what city to open a store in, Trader Joe’s senior management has decided to analyze the characteristics of both cities and determine which city will be a great fit for their new store. Using the Foursquare location data, we will be assisting them to gather deep insights about both cities. \n",
    "\n"
   ]
  }
 ],
 "metadata": {
  "kernelspec": {
   "display_name": "Python 3",
   "language": "python",
   "name": "python3"
  },
  "language_info": {
   "codemirror_mode": {
    "name": "ipython",
    "version": 3
   },
   "file_extension": ".py",
   "mimetype": "text/x-python",
   "name": "python",
   "nbconvert_exporter": "python",
   "pygments_lexer": "ipython3",
   "version": "3.6.8"
  }
 },
 "nbformat": 4,
 "nbformat_minor": 2
}
